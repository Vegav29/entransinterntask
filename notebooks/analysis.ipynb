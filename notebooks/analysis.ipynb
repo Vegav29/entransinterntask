{
 "cells": [
  {
   "cell_type": "markdown",
   "metadata": {},
   "source": [
    "<center>\n",
    "    <h1> Ds project </h1>\n",
    "  \n",
    "</center>"
   ]
  },
  {
   "cell_type": "code",
   "execution_count": 7,
   "metadata": {},
   "outputs": [
    {
     "name": "stderr",
     "output_type": "stream",
     "text": [
      "\n",
      "[notice] A new release of pip is available: 23.0.1 -> 24.3.1\n",
      "[notice] To update, run: C:\\Users\\91936\\AppData\\Local\\Microsoft\\WindowsApps\\PythonSoftwareFoundation.Python.3.10_qbz5n2kfra8p0\\python.exe -m pip install --upgrade pip\n"
     ]
    },
    {
     "name": "stdout",
     "output_type": "stream",
     "text": [
      "Requirement already satisfied: pandas in c:\\users\\91936\\appdata\\local\\packages\\pythonsoftwarefoundation.python.3.10_qbz5n2kfra8p0\\localcache\\local-packages\\python310\\site-packages (from -r ..\\requirements.txt (line 1)) (2.2.3)\n",
      "Requirement already satisfied: matplotlib in c:\\users\\91936\\appdata\\local\\packages\\pythonsoftwarefoundation.python.3.10_qbz5n2kfra8p0\\localcache\\local-packages\\python310\\site-packages (from -r ..\\requirements.txt (line 2)) (3.9.2)\n",
      "Requirement already satisfied: seaborn in c:\\users\\91936\\appdata\\local\\packages\\pythonsoftwarefoundation.python.3.10_qbz5n2kfra8p0\\localcache\\local-packages\\python310\\site-packages (from -r ..\\requirements.txt (line 3)) (0.13.2)\n",
      "Requirement already satisfied: openpyxl in c:\\users\\91936\\appdata\\local\\packages\\pythonsoftwarefoundation.python.3.10_qbz5n2kfra8p0\\localcache\\local-packages\\python310\\site-packages (from -r ..\\requirements.txt (line 4)) (3.1.5)\n",
      "Requirement already satisfied: pytz>=2020.1 in c:\\users\\91936\\appdata\\local\\packages\\pythonsoftwarefoundation.python.3.10_qbz5n2kfra8p0\\localcache\\local-packages\\python310\\site-packages (from pandas->-r ..\\requirements.txt (line 1)) (2024.2)\n",
      "Requirement already satisfied: python-dateutil>=2.8.2 in c:\\users\\91936\\appdata\\local\\packages\\pythonsoftwarefoundation.python.3.10_qbz5n2kfra8p0\\localcache\\local-packages\\python310\\site-packages (from pandas->-r ..\\requirements.txt (line 1)) (2.8.2)\n",
      "Requirement already satisfied: tzdata>=2022.7 in c:\\users\\91936\\appdata\\local\\packages\\pythonsoftwarefoundation.python.3.10_qbz5n2kfra8p0\\localcache\\local-packages\\python310\\site-packages (from pandas->-r ..\\requirements.txt (line 1)) (2024.2)\n",
      "Requirement already satisfied: numpy>=1.22.4 in c:\\users\\91936\\appdata\\local\\packages\\pythonsoftwarefoundation.python.3.10_qbz5n2kfra8p0\\localcache\\local-packages\\python310\\site-packages (from pandas->-r ..\\requirements.txt (line 1)) (2.1.3)\n",
      "Requirement already satisfied: pyparsing>=2.3.1 in c:\\users\\91936\\appdata\\local\\packages\\pythonsoftwarefoundation.python.3.10_qbz5n2kfra8p0\\localcache\\local-packages\\python310\\site-packages (from matplotlib->-r ..\\requirements.txt (line 2)) (3.2.0)\n",
      "Requirement already satisfied: contourpy>=1.0.1 in c:\\users\\91936\\appdata\\local\\packages\\pythonsoftwarefoundation.python.3.10_qbz5n2kfra8p0\\localcache\\local-packages\\python310\\site-packages (from matplotlib->-r ..\\requirements.txt (line 2)) (1.3.1)\n",
      "Requirement already satisfied: fonttools>=4.22.0 in c:\\users\\91936\\appdata\\local\\packages\\pythonsoftwarefoundation.python.3.10_qbz5n2kfra8p0\\localcache\\local-packages\\python310\\site-packages (from matplotlib->-r ..\\requirements.txt (line 2)) (4.55.0)\n",
      "Requirement already satisfied: packaging>=20.0 in c:\\users\\91936\\appdata\\local\\packages\\pythonsoftwarefoundation.python.3.10_qbz5n2kfra8p0\\localcache\\local-packages\\python310\\site-packages (from matplotlib->-r ..\\requirements.txt (line 2)) (23.2)\n",
      "Requirement already satisfied: cycler>=0.10 in c:\\users\\91936\\appdata\\local\\packages\\pythonsoftwarefoundation.python.3.10_qbz5n2kfra8p0\\localcache\\local-packages\\python310\\site-packages (from matplotlib->-r ..\\requirements.txt (line 2)) (0.12.1)\n",
      "Requirement already satisfied: kiwisolver>=1.3.1 in c:\\users\\91936\\appdata\\local\\packages\\pythonsoftwarefoundation.python.3.10_qbz5n2kfra8p0\\localcache\\local-packages\\python310\\site-packages (from matplotlib->-r ..\\requirements.txt (line 2)) (1.4.7)\n",
      "Requirement already satisfied: pillow>=8 in c:\\users\\91936\\appdata\\local\\packages\\pythonsoftwarefoundation.python.3.10_qbz5n2kfra8p0\\localcache\\local-packages\\python310\\site-packages (from matplotlib->-r ..\\requirements.txt (line 2)) (11.0.0)\n",
      "Requirement already satisfied: et-xmlfile in c:\\users\\91936\\appdata\\local\\packages\\pythonsoftwarefoundation.python.3.10_qbz5n2kfra8p0\\localcache\\local-packages\\python310\\site-packages (from openpyxl->-r ..\\requirements.txt (line 4)) (2.0.0)\n",
      "Requirement already satisfied: six>=1.5 in c:\\users\\91936\\appdata\\local\\packages\\pythonsoftwarefoundation.python.3.10_qbz5n2kfra8p0\\localcache\\local-packages\\python310\\site-packages (from python-dateutil>=2.8.2->pandas->-r ..\\requirements.txt (line 1)) (1.16.0)\n"
     ]
    }
   ],
   "source": [
    "!pip install -r ..\\requirements.txt\n",
    "\n"
   ]
  },
  {
   "cell_type": "markdown",
   "metadata": {},
   "source": [
    "1.Import data from excel and load it as Dataframe using Pandas"
   ]
  },
  {
   "cell_type": "code",
   "execution_count": 27,
   "metadata": {},
   "outputs": [
    {
     "name": "stdout",
     "output_type": "stream",
     "text": [
      "Data loaded successfully.\n"
     ]
    }
   ],
   "source": [
    "import sys\n",
    "import os\n",
    "\n",
    "project_root = os.path.abspath(os.path.join(os.getcwd(), \"..\"))\n",
    "sys.path.append(project_root)\n",
    "from src.data.make_dataset import DataLoader\n",
    "\n",
    "\n",
    "from src.config import DATA_PATH_RAW, DATA_PATH_PROCESSED, FIGURE_PATH\n",
    "\n",
    "# Load Data\n",
    "dataset = DataLoader(filepath=f\"{DATA_PATH_RAW}/sales_data.xlsx\")\n",
    "data = dataset.load_excel()\n",
    "\n",
    "\n",
    "\n",
    "\n",
    "\n"
   ]
  },
  {
   "cell_type": "markdown",
   "metadata": {},
   "source": [
    "2.Perform preprocessing operations as required - check datatypes, null values, etc\n",
    "3.Save it as pickle object "
   ]
  },
  {
   "cell_type": "code",
   "execution_count": 41,
   "metadata": {},
   "outputs": [
    {
     "name": "stdout",
     "output_type": "stream",
     "text": [
      "Preprocessing complete.\n",
      "Data Shape: (113036, 16)\n",
      "                                Date           Year   Customer_Age  \\\n",
      "count                         113036  113036.000000  113036.000000   \n",
      "mean   2014-11-23 12:14:55.063519232    2014.401739      35.919212   \n",
      "min              2011-01-01 00:00:00    2011.000000      17.000000   \n",
      "25%              2013-12-22 00:00:00    2013.000000      28.000000   \n",
      "50%              2014-06-27 00:00:00    2014.000000      35.000000   \n",
      "75%              2016-01-09 00:00:00    2016.000000      43.000000   \n",
      "max              2016-07-31 00:00:00    2016.000000      87.000000   \n",
      "std                              NaN       1.272510      11.021936   \n",
      "\n",
      "       Order_Quantity      Unit_Cost     Unit_Price         Profit  \\\n",
      "count   113036.000000  113036.000000  113036.000000  113036.000000   \n",
      "mean        11.901660     267.296366     452.938427     285.051665   \n",
      "min          1.000000       1.000000       2.000000     -30.000000   \n",
      "25%          2.000000       2.000000       5.000000      29.000000   \n",
      "50%         10.000000       9.000000      24.000000     101.000000   \n",
      "75%         20.000000      42.000000      70.000000     358.000000   \n",
      "max         32.000000    2171.000000    3578.000000   15096.000000   \n",
      "std          9.561857     549.835483     922.071219     453.887443   \n",
      "\n",
      "                Cost        Revenue  Profit Margin  \n",
      "count  113036.000000  113036.000000  113036.000000  \n",
      "mean      469.318695     754.370360      47.251849  \n",
      "min         1.000000       2.000000      -3.703704  \n",
      "25%        28.000000      63.000000      35.714286  \n",
      "50%       108.000000     223.000000      52.631579  \n",
      "75%       432.000000     800.000000      59.677419  \n",
      "max     42978.000000   58074.000000      75.000000  \n",
      "std       884.866118    1309.094674      16.357734  \n",
      "Date                0\n",
      "Month               0\n",
      "Year                0\n",
      "Customer_Age        0\n",
      "Age_Group           0\n",
      "Customer_Gender     0\n",
      "Product_Category    0\n",
      "Sub_Category        0\n",
      "Product             0\n",
      "Order_Quantity      0\n",
      "Unit_Cost           0\n",
      "Unit_Price          0\n",
      "Profit              0\n",
      "Cost                0\n",
      "Revenue             0\n",
      "Profit Margin       0\n",
      "dtype: int64\n",
      "Date                datetime64[ns]\n",
      "Month                       object\n",
      "Year                         int64\n",
      "Customer_Age                 int64\n",
      "Age_Group                   object\n",
      "Customer_Gender             object\n",
      "Product_Category            object\n",
      "Sub_Category                object\n",
      "Product                     object\n",
      "Order_Quantity               int64\n",
      "Unit_Cost                    int64\n",
      "Unit_Price                   int64\n",
      "Profit                       int64\n",
      "Cost                         int64\n",
      "Revenue                      int64\n",
      "Profit Margin              float64\n",
      "dtype: object\n",
      "Data saved as C:\\Users\\91936\\Documents\\GitHub\\dsproject\\entransinterntask\\data\\interim\\data.pkl\n"
     ]
    }
   ],
   "source": [
    "# showing the first 5 rows of the dataset:\n",
    "# Create Features object with the loaded data\n",
    "from src.features.build_features import Features\n",
    "features = Features(data)\n",
    "\n",
    "# Preprocess data\n",
    "    \n",
    "processed_data = features.preprocess()\n",
    "\n",
    "\n",
    "# Generate and print summary statistics\n",
    "print(features.generate_summary_statistics())\n",
    "\n",
    "# Check for missing values\n",
    "print(features.check_missing_values())\n",
    "\n",
    "# Print the data types of the columns\n",
    "print(features.get_data_types())\n",
    "output_path = r\"C:\\Users\\91936\\Documents\\GitHub\\dsproject\\entransinterntask\\data\\interim\\data.pkl\"  \n",
    "features.save(output_path)"
   ]
  }
 ],
 "metadata": {
  "kernelspec": {
   "display_name": "Python 3",
   "language": "python",
   "name": "python3"
  },
  "language_info": {
   "codemirror_mode": {
    "name": "ipython",
    "version": 3
   },
   "file_extension": ".py",
   "mimetype": "text/x-python",
   "name": "python",
   "nbconvert_exporter": "python",
   "pygments_lexer": "ipython3",
   "version": "3.10.11"
  }
 },
 "nbformat": 4,
 "nbformat_minor": 2
}
